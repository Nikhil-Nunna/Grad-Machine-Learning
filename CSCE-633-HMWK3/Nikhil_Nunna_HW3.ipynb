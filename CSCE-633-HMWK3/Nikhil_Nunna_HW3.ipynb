{
 "cells": [
  {
   "cell_type": "code",
   "execution_count": 15,
   "metadata": {},
   "outputs": [],
   "source": [
    "import pandas as pd\n",
    "import numpy as np\n",
    "import matplotlib.pyplot as plt"
   ]
  },
  {
   "cell_type": "markdown",
   "metadata": {},
   "source": [
    "## Part A\n",
    "\n",
    "#### Step 1: Read Hitters Dataset into a pandas dataframe."
   ]
  },
  {
   "cell_type": "code",
   "execution_count": 16,
   "metadata": {},
   "outputs": [],
   "source": [
    "df = pd.read_csv('Hitters.csv')"
   ]
  },
  {
   "cell_type": "markdown",
   "metadata": {},
   "source": [
    "#### Step 2: Pre-process the data."
   ]
  },
  {
   "cell_type": "code",
   "execution_count": 17,
   "metadata": {},
   "outputs": [
    {
     "name": "stdout",
     "output_type": "stream",
     "text": [
      "               Player  AtBat  Hits  HmRun  Runs  RBI  Walks  Years  CAtBat  \\\n",
      "1         -Alan Ashby    315    81      7    24   38     39     14    3449   \n",
      "2        -Alvin Davis    479   130     18    66   72     76      3    1624   \n",
      "3       -Andre Dawson    496   141     20    65   78     37     11    5628   \n",
      "4   -Andres Galarraga    321    87     10    39   42     30      2     396   \n",
      "5    -Alfredo Griffin    594   169      4    74   51     35     11    4408   \n",
      "6          -Al Newman    185    37      1    23    8     21      2     214   \n",
      "7    -Argenis Salazar    298    73      0    24   24      7      3     509   \n",
      "8      -Andres Thomas    323    81      6    26   32      8      2     341   \n",
      "9     -Andre Thornton    401    92     17    49   66     65     13    5206   \n",
      "10     -Alan Trammell    574   159     21   107   75     59     10    4631   \n",
      "\n",
      "    CHits  ...  CRuns  CRBI  CWalks  League Division PutOuts  Assists  Errors  \\\n",
      "1     835  ...    321   414     375       N        W     632       43      10   \n",
      "2     457  ...    224   266     263       A        W     880       82      14   \n",
      "3    1575  ...    828   838     354       N        E     200       11       3   \n",
      "4     101  ...     48    46      33       N        E     805       40       4   \n",
      "5    1133  ...    501   336     194       A        W     282      421      25   \n",
      "6      42  ...     30     9      24       N        E      76      127       7   \n",
      "7     108  ...     41    37      12       A        W     121      283       9   \n",
      "8      86  ...     32    34       8       N        W     143      290      19   \n",
      "9    1332  ...    784   890     866       A        E       0        0       0   \n",
      "10   1300  ...    702   504     488       A        E     238      445      22   \n",
      "\n",
      "      Salary  NewLeague  \n",
      "1    475.000          N  \n",
      "2    480.000          A  \n",
      "3    500.000          N  \n",
      "4     91.500          N  \n",
      "5    750.000          A  \n",
      "6     70.000          A  \n",
      "7    100.000          A  \n",
      "8     75.000          N  \n",
      "9   1100.000          A  \n",
      "10   517.143          A  \n",
      "\n",
      "[10 rows x 21 columns]\n"
     ]
    }
   ],
   "source": [
    "# drop empty rows\n",
    "df.dropna(inplace=True)\n",
    "print (df.head(10))\n"
   ]
  },
  {
   "cell_type": "markdown",
   "metadata": {},
   "source": [
    "There are 21 different features in this data frame and there are 321 different samples, so the data is stored in a 321 by 21 dataframe."
   ]
  },
  {
   "cell_type": "code",
   "execution_count": 18,
   "metadata": {},
   "outputs": [
    {
     "name": "stderr",
     "output_type": "stream",
     "text": [
      "/tmp/ipykernel_73779/3643112482.py:22: FutureWarning: Downcasting behavior in `replace` is deprecated and will be removed in a future version. To retain the old behavior, explicitly call `result.infer_objects(copy=False)`. To opt-in to the future behavior, set `pd.set_option('future.no_silent_downcasting', True)`\n",
      "  y=y.replace({\"NewLeague\": NewLeague2number_dict})\n"
     ]
    }
   ],
   "source": [
    "# feature data frame\n",
    "X = df[['AtBat','Hits','HmRun','Runs','RBI','Walks','Years','CAtBat','CHits','CHmRun','CRuns','CRBI','CWalks','League','Division','PutOuts','Assists','Errors','Salary']]\n",
    "# lable data frame\n",
    "y = df[['NewLeague']]\n",
    "\n",
    "# seperate all non-numerical columns\n",
    "X_cat = X.select_dtypes(exclude=['int64', 'float64'])\n",
    "# seperate all numerical columns                                                                                                         \n",
    "X_dog = X.select_dtypes(include=['int64', 'float64'])                                                                                                         \n",
    "\n",
    "# Convert all the League and Division data to categorical/bool                                                                                                                                                             \n",
    "X_cat = pd.get_dummies(X_cat)\n",
    "# Merge non-numerical and numerical data back together                                                                                                                                 \n",
    "X = pd.concat([X_cat, X_dog], axis=1)   \n",
    "\n",
    "# Transform ‘A’ in label to 0 and‘N’ to 1\n",
    "NewLeague2number_dict = {\n",
    "    'A':0,\n",
    "    'N':1\n",
    "}\n",
    "\n",
    "y=y.replace({\"NewLeague\": NewLeague2number_dict})\n",
    "#print(y.head(10))"
   ]
  },
  {
   "cell_type": "markdown",
   "metadata": {},
   "source": [
    "#### Step 3: Split the data into train and test sets."
   ]
  },
  {
   "cell_type": "code",
   "execution_count": 19,
   "metadata": {},
   "outputs": [],
   "source": [
    "# Convert dataframes to numpy matrices\n",
    "Xnp = np.matrix(X.values,dtype=np.float64)\n",
    "ynp = np.matrix(y.values,dtype=np.float64)\n",
    "\n",
    "# print(Xnp.shape)\n",
    "# print(ynp.shape)\n",
    "\n",
    "# Get the information to split the matrices \n",
    "split_index = int((.7) * len(X))\n",
    "split_list = np.arange(len(X))\n",
    "\n",
    "# Split the matrices into 4 test train sets\n",
    "X_train, X_test = Xnp[split_list[:split_index]], Xnp[split_list[split_index:]]\n",
    "y_train, y_test = ynp[split_list[:split_index]], ynp[split_list[split_index:]]\n",
    "\n",
    "# Normalize features\n",
    "X_train = (X_train - X_train.mean()) / X_train.std()\n",
    "\n",
    "# Normalize Test features\n",
    "X_test = (X_test - X_test.mean()) / X_test.std()\n",
    "\n"
   ]
  },
  {
   "cell_type": "markdown",
   "metadata": {},
   "source": [
    "#### Step 4: Train a logistic regression model. "
   ]
  },
  {
   "cell_type": "code",
   "execution_count": 20,
   "metadata": {},
   "outputs": [],
   "source": [
    "# get size of dimensionality\n",
    "sample_size, feature_size = X_train.shape\n",
    "epoch_weight = 1 / sample_size\n",
    "\n",
    "# Initialize weights\n",
    "weights_arr = np.zeros((feature_size,1),dtype=np.float128)\n",
    "bias_term = 0\n",
    "\n",
    "# Hyper params\n",
    "learning_rate = .01\n",
    "iterations = 1000\n",
    "final = 0\n",
    "for epoch in range(0, iterations):\n",
    "    # make prediction\n",
    "    dot_prod_pred = np.array(np.dot(X_train, weights_arr),dtype=np.float128)\n",
    "    pred_hat = bias_term + dot_prod_pred\n",
    "    #normalized_pred_hat = pred_hat - np.max(pred_hat)\n",
    "    # Sigmoid function\n",
    "    pred = 1 / (1 + np.exp(-pred_hat))\n",
    "\n",
    "    # calculate how much off\n",
    "    total_diff = np.sum(pred - y_train)\n",
    "    element_wise_diff = (pred - y_train)\n",
    "    dot_prod_diff = np.array(np.dot(X_train.T, element_wise_diff),dtype=np.float128)\n",
    "\n",
    "    # multiply by weight of epoch\n",
    "    bias_prop = epoch_weight * total_diff\n",
    "    weight_prop = epoch_weight * dot_prod_diff\n",
    "\n",
    "    # update the weights and bias by difference\n",
    "    bias_term -= learning_rate * bias_prop\n",
    "    weights_arr -= learning_rate * weight_prop\n",
    "    \n"
   ]
  },
  {
   "cell_type": "markdown",
   "metadata": {},
   "source": [
    "#### Step 5: please provide the coefficients for each feature for Logistic model"
   ]
  },
  {
   "cell_type": "code",
   "execution_count": 21,
   "metadata": {},
   "outputs": [
    {
     "name": "stdout",
     "output_type": "stream",
     "text": [
      "coefficients:  [ 0.01037687  0.01580423  0.01288191  0.01329919 -0.12227884 -0.02655712\n",
      "  0.00211682 -0.01772837 -0.01689471  0.012917    0.01299677  0.00132372\n",
      "  0.00227922 -0.03595905 -0.05940335 -0.07029967  0.01502292  0.06538081\n",
      " -0.02994639  0.01196381  0.01993542]\n"
     ]
    }
   ],
   "source": [
    "print(\"coefficients: \", weights_arr.flatten())\n"
   ]
  },
  {
   "cell_type": "markdown",
   "metadata": {},
   "source": [
    "#### Step 6: Please plot the ROC curve for Logistic model. What is the area under the curve?"
   ]
  },
  {
   "cell_type": "code",
   "execution_count": 22,
   "metadata": {},
   "outputs": [
    {
     "name": "stdout",
     "output_type": "stream",
     "text": [
      "Area under the curve (AUC):  0.5032938076416338\n"
     ]
    },
    {
     "data": {
      "image/png": "[encoded data removed]",
      "text/plain": [
       "<Figure size 600x600 with 1 Axes>"
      ]
     },
     "metadata": {},
     "output_type": "display_data"
    }
   ],
   "source": [
    "# Calculate the probablities of the test set\n",
    "dot_plot_prod_pred = np.array(np.dot(X_test, weights_arr),dtype=np.float128)\n",
    "#normalized_dot_plot_prod_pred = dot_plot_prod_pred - np.max(dot_plot_prod_pred)\n",
    "y_plot_pred = 1 / (1 + np.exp(-dot_plot_prod_pred))\n",
    "\n",
    "# Compute false positive and true positive for ROC curve\n",
    "\n",
    "# get thresholds between 0 and 1\n",
    "thresholds = np.linspace(0, 1, 100000)\n",
    "tpr_values = []\n",
    "fpr_values = []\n",
    "\n",
    "\n",
    "for threshold in thresholds:\n",
    "    # Compare bool arrays of y_pred and y_test\n",
    "    y_pred = np.where(y_plot_pred >= threshold, 1, 0)\n",
    "    tp = np.sum((y_pred == 1) & (y_test == 1))\n",
    "    fp = np.sum((y_pred == 1) & (y_test == 0))\n",
    "    tn = np.sum((y_pred == 0) & (y_test == 0))\n",
    "    fn = np.sum((y_pred == 0) & (y_test == 1))\n",
    "\n",
    "    # Calculate true and false postive rate \n",
    "    tpr = tp / (tp + fn)\n",
    "    fpr = fp / (fp + tn)\n",
    "\n",
    "    # Add true and false postive rate to lists\n",
    "    tpr_values.append(tpr)\n",
    "    fpr_values.append(fpr)\n",
    "\n",
    "# Convert lists to numpy arrays\n",
    "fpr_array = np.array(fpr_values)\n",
    "tpr_array = np.array(tpr_values)\n",
    "\n",
    "# sort the indices in ascending order\n",
    "sorted_indices = np.argsort(fpr_array)\n",
    "fpr_sorted = fpr_array[sorted_indices]\n",
    "tpr_sorted = tpr_array[sorted_indices]\n",
    "\n",
    "# Use the trapizoidal rule to calculate area under the curve\n",
    "auc_value = np.trapz(tpr_sorted, fpr_sorted)\n",
    "print(\"Area under the curve (AUC): \", auc_value)\n",
    "\n",
    "# Plot ROC curve\n",
    "plt.figure(figsize=(6, 6))\n",
    "plt.plot(fpr_array, tpr_array, color='red', lw=1, label='ROC curve (area = %0.2f)' % auc_value)\n",
    "plt.fill_between(fpr_array, tpr_array, color='red', alpha=0.5)\n",
    "plt.xlim([0.0, 1.0])\n",
    "plt.ylim([0.0, 1.0])\n",
    "plt.xlabel('False Positive Rate')\n",
    "plt.ylabel('True Positive Rate')\n",
    "plt.title('Receiver Operating Characteristic (ROC) Curve')\n",
    "plt.legend(loc='lower right')\n",
    "plt.show()"
   ]
  },
  {
   "cell_type": "markdown",
   "metadata": {},
   "source": [
    "#### Step 7: For Logistic model, what is the optimal decision threshold to maximize the f1 score"
   ]
  },
  {
   "cell_type": "code",
   "execution_count": 23,
   "metadata": {},
   "outputs": [
    {
     "name": "stdout",
     "output_type": "stream",
     "text": [
      "Optimal Threshold: 0.44544544544544545\n",
      "Best F1 Score: 0.5945945945945945\n"
     ]
    }
   ],
   "source": [
    "thresholds = np.linspace(0, 1, 1000)\n",
    "\n",
    "# Setup result values for comparison and saving\n",
    "best_threshold = None\n",
    "best_f1 = -1\n",
    "\n",
    "# Calculate true positive, false positive and false negative at each threshold\n",
    "for threshold in thresholds:\n",
    "    y_pred = np.where(y_plot_pred >= threshold, 1, 0)\n",
    "    tp = np.sum((y_pred == 1) & (y_test == 1))\n",
    "    fp = np.sum((y_pred == 1) & (y_test == 0))\n",
    "    fn = np.sum((y_pred == 0) & (y_test == 1))\n",
    "\n",
    "    # Calculate precsiosn and recall to find f1 value\n",
    "    \n",
    "    # account for 0 denominator to keep numpy happy and prevent nan\n",
    "    if (tp + fp) == 0:\n",
    "        precision == 0\n",
    "    else:\n",
    "        precision = tp / (tp + fp)\n",
    "    \n",
    "    # account for 0 denominator to keep numpy happy and prevent nan\n",
    "    if (tp + fn) == 0:\n",
    "        recall == 0\n",
    "    else:\n",
    "        recall = tp / (tp + fn)\n",
    "    \n",
    "    # account for 0 denominator to keep numpy happy and prevent nan\n",
    "    if (precision + recall) == 0:\n",
    "        f1 == 0\n",
    "    else:\n",
    "        f1 = 2 * ((precision * recall) / (precision + recall))\n",
    "\n",
    "    # Compare f1 val against current best and update result values\n",
    "    if f1 > best_f1:\n",
    "        best_f1 = f1\n",
    "        best_threshold = threshold\n",
    "                \n",
    "\n",
    "print(\"Optimal Threshold:\", best_threshold)\n",
    "print(\"Best F1 Score:\", best_f1)"
   ]
  },
  {
   "cell_type": "markdown",
   "metadata": {},
   "source": [
    "## PART B\n",
    "#### Step 1: Split the data into 3 sets "
   ]
  },
  {
   "cell_type": "code",
   "execution_count": 24,
   "metadata": {},
   "outputs": [],
   "source": [
    "# Function to split data\n",
    "from sklearn.model_selection import train_test_split\n",
    "\n",
    "# Convert data frames too numpy matrices\n",
    "Xnp = np.matrix(X.values,dtype=np.float64)\n",
    "ynp = np.matrix(y.values,dtype=np.float64)\n",
    "\n",
    "# First, split the data into 60 and 40 percent splits\n",
    "X_train, X_temp, y_train, y_temp = train_test_split(Xnp, ynp, test_size=0.4)\n",
    "\n",
    "\n",
    "# Normalize features\n",
    "X_train = (X_train - X_train.mean()) / X_train.std()\n",
    "\n",
    "\n",
    "# print(X_train.shape)\n",
    "# print(X_temp.shape)\n",
    "\n",
    "# Then, split the the 40 percent of the data in half\n",
    "X_test, X_val, y_test, y_val = train_test_split(X_temp, y_temp, test_size=0.5)\n",
    "\n",
    "# Normalize Test features\n",
    "X_test = (X_test - X_test.mean()) / X_test.std()\n",
    "\n",
    "# Normalize validation features\n",
    "X_val = (X_val - X_val.mean()) / X_val.std()"
   ]
  },
  {
   "cell_type": "markdown",
   "metadata": {},
   "source": [
    "#### Step 2: Write a function train ridge to implement a Ridge model"
   ]
  },
  {
   "cell_type": "code",
   "execution_count": 25,
   "metadata": {},
   "outputs": [
    {
     "name": "stdout",
     "output_type": "stream",
     "text": [
      "mean aucs ridges:  {0.001: 0.682024926686217, 0.01: 0.5952551319648094, 0.1: 0.5555454545454545, 1: 0.5164736070381232, 10.0: 0.5100982404692083, 100.0: 0.5106700879765396, 1000.0: 0.5089281524926687}\n",
      "best alpha value: 0.001\n"
     ]
    }
   ],
   "source": [
    "# Import ridge model and auc score calculator function\n",
    "from sklearn.linear_model import Ridge\n",
    "from sklearn.metrics import roc_auc_score\n",
    "\n",
    "# Train ridge model function\n",
    "def train_ridge(X_train = X_train, y_train = y_train, alpha_vals=[1e-3, 1e-2, 1e-1, 1, 1e1, 1e2, 1e3], n_bootstraps=1000, X_val = X_val, y_val = y_val):\n",
    "    # Dictionary of lists, where each alpha val has a list of aucs\n",
    "    aucs_ridge = {alpha: [] for alpha in alpha_vals}\n",
    "    for strap in range(n_bootstraps):\n",
    "        # Random sampling for in each bootstrap loop\n",
    "        bootstrap_indices = np.asarray(np.random.choice(len(X_train), size=len(X_train), replace=True))\n",
    "        \n",
    "        # Re-order training data per randomized indices\n",
    "        X_train_boot = X_train[bootstrap_indices]\n",
    "        y_train_boot = y_train[bootstrap_indices]\n",
    "        \n",
    "        # For each alpha val train the ridge model\n",
    "        for alpha in alpha_vals:\n",
    "            # Setup model with lamda values\n",
    "            model = Ridge(alpha=alpha)\n",
    "            # Pass in training data as arrays as sk learn won't take numpy matrices\n",
    "            model.fit(np.asarray(X_train_boot), np.asarray(y_train_boot))\n",
    "            # make inference\n",
    "            y_prob = model.predict(np.asarray(X_val))\n",
    "            # Calculate area under curve from prediction and true value\n",
    "            auc = roc_auc_score(np.asarray(y_val), y_prob)\n",
    "            # Append the auc to the correct alpha list\n",
    "            aucs_ridge[alpha].append(auc)\n",
    "    # Calculate the mean for each alpha value\n",
    "    mean_aucs_ridge = {alpha: np.mean(aucs) for alpha, aucs in aucs_ridge.items()}\n",
    "    # Calculate the best alpha value by finding the highest average auc coefficient \n",
    "    best_alpha = max(mean_aucs_ridge, key=mean_aucs_ridge.get)\n",
    "    \n",
    "    return mean_aucs_ridge, best_alpha\n",
    "mean_ridges, best_ridge_alpha_val = train_ridge(X_train=X_train,y_train=y_train)\n",
    "\n",
    "print(\"mean aucs ridges: \", mean_ridges)\n",
    "print(\"best alpha value:\", best_ridge_alpha_val)"
   ]
  },
  {
   "cell_type": "markdown",
   "metadata": {},
   "source": [
    "By calculating the mean AUC score across the boot strapping per each alpha we can select the alpha value that gives us the best model. Auc is a good indicator for how effective a classifier model is because it represents how often a model is right when classifying. If a model has an auc of .5 it is as good as random chance, if it is more than .5 approaching 1 it is better than random chance and approaching a perfect classifier, if the model has an auc less than .5 then it is worse than random chance."
   ]
  },
  {
   "cell_type": "markdown",
   "metadata": {},
   "source": [
    "#### Step 3: Write a function train lasso to implement a Lasso model"
   ]
  },
  {
   "cell_type": "code",
   "execution_count": 26,
   "metadata": {},
   "outputs": [
    {
     "name": "stdout",
     "output_type": "stream",
     "text": [
      "mean aucs ridges:  {0.001: 0.5407903225806451, 0.01: 0.5103013196480938, 0.1: 0.5053885630498535, 1: 0.5, 10.0: 0.5, 100.0: 0.5, 1000.0: 0.5}\n",
      "best alpha value: 0.001\n"
     ]
    }
   ],
   "source": [
    "# Import lasso model and auc score calculator function\n",
    "from sklearn.linear_model import Lasso\n",
    "from sklearn.metrics import roc_auc_score\n",
    "# Import ignore warinning and convergence warning to prevent it\n",
    "from sklearn.utils._testing import ignore_warnings\n",
    "from sklearn.exceptions import ConvergenceWarning\n",
    "\n",
    "# Disable convergence warning for this function as some alpha vals might set it off\n",
    "@ignore_warnings(category=ConvergenceWarning)\n",
    "def train_lasso(X_train = X_train, y_train = y_train, alpha_vals=[1e-3, 1e-2, 1e-1, 1, 1e1, 1e2, 1e3], n_bootstraps=1000, X_val = X_val, y_val = y_val):\n",
    "    # Dictionary of lists, where each alpha val has a list of aucs\n",
    "    aucs_lasso = {alpha: [] for alpha in alpha_vals}\n",
    "    \n",
    "    for strap in range(n_bootstraps):\n",
    "        # Random sampling for in each bootstrap loop\n",
    "        bootstrap_indices = np.random.choice(len(X_train), size=len(X_train), replace=True)\n",
    "        \n",
    "        # Re-order training data per randomized indices\n",
    "        X_train_boot = X_train[bootstrap_indices]\n",
    "        y_train_boot = y_train[bootstrap_indices]\n",
    "        \n",
    "        # For each alpha val train the lasso model\n",
    "        for alpha in alpha_vals:\n",
    "            # Setup model with lamda values\n",
    "            model = Lasso(alpha=alpha)\n",
    "            # Pass in training data as arrays as sk learn won't take numpy matrices\n",
    "            model.fit(np.asarray(X_train_boot), np.asarray(y_train_boot))\n",
    "            # make inference\n",
    "            y_prob = model.predict(np.asarray(X_val))\n",
    "            # Calculate area under curve from prediction and true value\n",
    "            auc = roc_auc_score(np.asarray(y_val), y_prob)\n",
    "            # Append the auc to the correct alpha list\n",
    "            aucs_lasso[alpha].append(auc)\n",
    "        # Calculate the mean for each alpha value\n",
    "    mean_aucs_lasso = {alpha: np.mean(aucs) for alpha, aucs in aucs_lasso.items()}\n",
    "    # Calculate the best alpha value by finding the highest average auc coefficient \n",
    "    best_alpha = max(mean_aucs_lasso, key=mean_aucs_lasso.get)\n",
    "    \n",
    "    return mean_aucs_lasso, best_alpha\n",
    "mean_ridges, best_lasso_alpha_val = train_lasso(X_train=X_train,y_train=y_train)\n",
    "\n",
    "print(\"mean aucs ridges: \", mean_ridges)\n",
    "print(\"best alpha value:\", best_lasso_alpha_val)"
   ]
  },
  {
   "cell_type": "markdown",
   "metadata": {},
   "source": [
    "By calculating the mean AUC score across the boot strapping per each alpha we can select the alpha value that gives us the best model. Auc is a good indicator for how effective a classifier model is because it represents how often a model is right when classifying. If a model has an auc of .5 it is as good as random chance, if it is more than .5 approaching 1 it is better than random chance and approaching a perfect classifier, if the model has an auc less than .5 then it is worse than random chance."
   ]
  },
  {
   "cell_type": "markdown",
   "metadata": {},
   "source": [
    "#### Step 4: Write a function ridge coefficients that returns a tuple of trained ridge model with max iteriterations and optimal alpha as well as the model’s coefficients. Then do the same for Lasso"
   ]
  },
  {
   "cell_type": "code",
   "execution_count": 27,
   "metadata": {},
   "outputs": [
    {
     "name": "stdout",
     "output_type": "stream",
     "text": [
      "Ridge coefficients:  [-0.          0.         -0.          0.          0.63941071  0.\n",
      " -0.         -0.         -3.46513969 -0.         -0.          0.01389932\n",
      "  0.89486378 -0.         -2.7604247   0.24746208  0.60715363 -0.07693653\n",
      " -0.         -0.          0.13878041]\n",
      "Lasso coefficients:  [-0.          0.         -0.          0.         -0.         -0.4978891\n",
      " -0.         -0.         -1.10166092  0.         -0.         -0.11338965\n",
      "  0.34423639 -0.         -0.          0.33456915 -0.20175297  0.08337209\n",
      "  0.51861319  0.          0.06877384]\n"
     ]
    }
   ],
   "source": [
    "@ignore_warnings(category=ConvergenceWarning)\n",
    "def ridge_coefficients(X_train = X_train, y_train = y_train, n_bootstraps=1000, alpha = best_ridge_alpha_val, X_val = X_val, y_val = y_val):\n",
    "    \n",
    "    # intialize return vals\n",
    "    best_auc = -1\n",
    "    best_alpha = None\n",
    "    best_model = None\n",
    "    max_iter = None\n",
    "\n",
    "    for strap in range(n_bootstraps):\n",
    "        # Random sampling for in each bootstrap loop\n",
    "        bootstrap_indices = np.random.choice(len(X_train), size=len(X_train), replace=True)\n",
    "        \n",
    "        # Re-order training data per randomized indices\n",
    "        X_train_boot = X_train[bootstrap_indices]\n",
    "        y_train_boot = y_train[bootstrap_indices]\n",
    "\n",
    "        # Setup model with lamda values\n",
    "        model = Lasso(alpha=alpha)\n",
    "        # Pass in training data as arrays as sk learn won't take numpy matrices\n",
    "        model.fit(np.asarray(X_train_boot), np.asarray(y_train_boot))\n",
    "        # make inference\n",
    "        y_prob = model.predict(np.asarray(X_val))\n",
    "        # Calculate area under curve from prediction and true value\n",
    "        auc = roc_auc_score(np.asarray(y_val), y_prob)\n",
    "        if auc > best_auc:\n",
    "            best_auc = auc\n",
    "            best_alpha = alpha\n",
    "            best_model = model\n",
    "        max_iter = strap\n",
    "    return (best_model, best_alpha, best_model.coef_, max_iter)\n",
    "\n",
    "@ignore_warnings(category=ConvergenceWarning)\n",
    "def lasso_coefficients(X_train = X_train, y_train = y_train, n_bootstraps=1000, alpha = best_lasso_alpha_val, X_val = X_val, y_val = y_val):\n",
    "    \n",
    "    # intialize return vals\n",
    "    best_auc = -1\n",
    "    best_alpha = None\n",
    "    best_model = None\n",
    "    max_iter = None\n",
    "    \n",
    "    for strap in range(n_bootstraps):\n",
    "        # Random sampling for in each bootstrap loop\n",
    "        bootstrap_indices = np.random.choice(len(X_train), size=len(X_train), replace=True)\n",
    "        \n",
    "        # Re-order training data per randomized indices\n",
    "        X_train_boot = X_train[bootstrap_indices]\n",
    "        y_train_boot = y_train[bootstrap_indices]\n",
    "        \n",
    "        # Setup model with lamda values\n",
    "        model = Lasso(alpha=alpha)\n",
    "        # Pass in training data as arrays as sk learn won't take numpy matrices\n",
    "        model.fit(np.asarray(X_train_boot), np.asarray(y_train_boot))\n",
    "        # make inference\n",
    "        y_prob = model.predict(np.asarray(X_val))\n",
    "        # Calculate area under curve from prediction and true value\n",
    "        auc = roc_auc_score(np.asarray(y_val), y_prob)\n",
    "        if auc > best_auc:\n",
    "            best_auc = auc\n",
    "            best_alpha = alpha\n",
    "            best_model = model\n",
    "        max_iter = strap\n",
    "    return (best_model, best_alpha, best_model.coef_, max_iter)\n",
    "\n",
    "\n",
    "ridge_output = ridge_coefficients()\n",
    "print(\"Ridge coefficients: \",ridge_output[2])\n",
    "\n",
    "lasso_output = lasso_coefficients()\n",
    "print(\"Lasso coefficients: \", lasso_output[2])"
   ]
  },
  {
   "cell_type": "markdown",
   "metadata": {},
   "source": [
    "It makes sense that they would be different since ridge regression will always use all of the features to a certain degree so it will never have any coefficeints that are 0. Where as Lasso regularization will make coefficeints 0 if the alpha/lambda value is big enough. This difference is caused by the fact that ridge regression uses the L2 norm where as lasso regularization uses the L1 norm. So if there are predicators that are not correlative ridge regression will minimize them where as lasso regularization will 0 it out."
   ]
  },
  {
   "cell_type": "markdown",
   "metadata": {},
   "source": [
    "#### Step 5: Write a function ridge area under curve that returns area under curve measurements, and a function lasso area under curve that returns area under curve measurements"
   ]
  },
  {
   "cell_type": "code",
   "execution_count": 28,
   "metadata": {},
   "outputs": [
    {
     "data": {
      "image/png": "[encoded data removed]",
      "text/plain": [
       "<Figure size 640x480 with 1 Axes>"
      ]
     },
     "metadata": {},
     "output_type": "display_data"
    },
    {
     "name": "stdout",
     "output_type": "stream",
     "text": [
      "Area under the curve (AUC):  0.6039886039886039\n"
     ]
    },
    {
     "data": {
      "image/png": "[encoded data removed]",
      "text/plain": [
       "<Figure size 640x480 with 1 Axes>"
      ]
     },
     "metadata": {},
     "output_type": "display_data"
    },
    {
     "name": "stdout",
     "output_type": "stream",
     "text": [
      "Area under the curve (AUC):  0.5769230769230769\n"
     ]
    }
   ],
   "source": [
    "import matplotlib.pyplot as plt\n",
    "from sklearn.metrics import roc_curve, auc\n",
    "\n",
    "\n",
    "def ridge_auc(model=ridge_output[0] , X_val = np.asarray(X_test), y_val=np.asarray(y_test)):\n",
    "    # Read in model from previous step and make inference\n",
    "    y_prob = model.predict(X_val)\n",
    "    # Calculate false positive rate and true positive rate from prediction and true value\n",
    "    fpr, tpr, thresholds = roc_curve(y_val, y_prob)\n",
    "    # Calculate area under curve from false and true positive rates\n",
    "    roc_auc = auc(fpr, tpr)\n",
    "    # Plot area under curve with labels\n",
    "    plt.figure()\n",
    "    plt.plot(fpr, tpr, color='darkorange', lw=2, label='ROC curve (area = %0.2f)' % roc_auc)\n",
    "    plt.fill_between(fpr, tpr, color='red', alpha=0.5)\n",
    "    plt.xlim([0.0, 1.0])\n",
    "    plt.ylim([0.0, 1.0])\n",
    "    plt.xlabel('False Positive Rate')\n",
    "    plt.ylabel('True Positive Rate')\n",
    "    plt.title('ROC Curve for Ridge')\n",
    "    plt.legend(loc=\"lower right\")\n",
    "    plt.show()\n",
    "    return auc(fpr, tpr)\n",
    "\n",
    "def lasso_auc(model=lasso_output[0], X_val = np.asarray(X_test), y_val=np.asarray(y_test)):\n",
    "    # Read in model from previous step and make inference\n",
    "    y_prob = model.predict(X_val)\n",
    "    # Calculate false positive rate and true positive rate from prediction and true value\n",
    "    fpr, tpr, thresholds = roc_curve(y_val, y_prob)\n",
    "    # Calculate area under curve from false and true positive rates\n",
    "    roc_auc = auc(fpr, tpr)\n",
    "    # Plot area under curve with labels\n",
    "    plt.figure()\n",
    "    plt.plot(fpr, tpr, color='darkorange', lw=2, label='ROC curve (area = %0.2f)' % roc_auc)\n",
    "    plt.fill_between(fpr, tpr, color='red', alpha=0.5)\n",
    "    plt.xlim([0.0, 1.0])\n",
    "    plt.ylim([0.0, 1.0])\n",
    "    plt.xlabel('False Positive Rate')\n",
    "    plt.ylabel('True Positive Rate')\n",
    "    plt.title('ROC Curve for Lasso')\n",
    "    plt.legend(loc=\"lower right\")\n",
    "    plt.show()\n",
    "    return auc(fpr, tpr)\n",
    "\n",
    "\n",
    "print(\"Area under the curve (AUC): \",ridge_auc())\n",
    "print(\"Area under the curve (AUC): \",lasso_auc())"
   ]
  }
 ],
 "metadata": {
  "kernelspec": {
   "display_name": "base",
   "language": "python",
   "name": "python3"
  },
  "language_info": {
   "codemirror_mode": {
    "name": "ipython",
    "version": 3
   },
   "file_extension": ".py",
   "mimetype": "text/x-python",
   "name": "python",
   "nbconvert_exporter": "python",
   "pygments_lexer": "ipython3",
   "version": "3.10.10"
  }
 },
 "nbformat": 4,
 "nbformat_minor": 2
}
