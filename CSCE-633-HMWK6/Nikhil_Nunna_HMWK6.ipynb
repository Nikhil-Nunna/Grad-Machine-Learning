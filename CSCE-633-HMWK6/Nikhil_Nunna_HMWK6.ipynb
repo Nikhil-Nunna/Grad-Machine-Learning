{
 "cells": [
  {
   "cell_type": "markdown",
   "metadata": {},
   "source": [
    "## Question 1 Convolution operation \n",
    "\n",
    "* without max pooling and with stride of 1\n",
    "\n",
    "\n",
    "\n",
    "    | 0 | -2| -4|  1|  4|  1|  0|\n",
    "    |---|---|---|---|---|---|---|\n",
    "    |-3 | -3| -2|  2|  4|  1|  1|\n",
    "    |-5 | -7| -1|  6|  4|  1|  2|\n",
    "    |-7 | -5|  0|  3|  3|  2|  4|\n",
    "    |-4 | -5| -5|  1|  5|  4|  4|\n",
    "    |-2 | -1| -6| -3|  5|  4|  3|\n",
    "    | 0 | -1| -3| -1|  2|  2|  1|\n",
    "\n",
    "* without max pooling and with stride of 2\n",
    "\n",
    "    | 0 | -4 |  4 |  0 |\n",
    "    |---|----|----|----|\n",
    "    |-5 | -1 |  4 |  2 |\n",
    "    |-4 | -5 |  5 |  4 |\n",
    "    | 0 | -3 |  2 |  1 |\n",
    "\n",
    "\n",
    "* with max pooling and with stride of 1\n",
    "\n",
    "\n",
    "\n",
    "    | 0 | 6 | 4 |\n",
    "    |---|---|---|\n",
    "    | 0 | 6 | 5 |\n",
    "    | 0 | 5 | 5 |\n"
   ]
  },
  {
   "cell_type": "markdown",
   "metadata": {},
   "source": [
    "In order to solve question 1 I just made a python script that did the convoltuion operation, I had some trouble implementing the max pooling function as failed to see the green bit in the numbers that said to use a stride of 2 when doing the max pooling. I was trying to do it with a stride of 1 and it wasn't working. After beating my head on it for about 45 mins I tried a stride of 2 and checked the document as realized I was supposed to do that in the first place."
   ]
  },
  {
   "cell_type": "markdown",
   "metadata": {},
   "source": [
    "## Question 2 Convolution operation \n",
    "\n",
    "#### Dataloader \n",
    "Download the MNIST dataset and get the dataloader in PyTorch"
   ]
  },
  {
   "cell_type": "code",
   "execution_count": 1,
   "metadata": {},
   "outputs": [],
   "source": [
    "import torch\n",
    "from torchvision import datasets, transforms\n",
    "from torch.utils.data import DataLoader\n",
    "import matplotlib.pyplot as plt\n",
    "import numpy as np\n",
    "from torch.utils.data import random_split\n",
    "import torch.nn as nn\n",
    "import torch.optim as optim\n",
    "\n",
    "\n",
    "# Define the transformation sequence for preprocessing the images\n",
    "transform = transforms.Compose([\n",
    "    # Convert image from PIL format or numpy.ndarray to a FloatTensor\n",
    "    transforms.ToTensor(),\n",
    "    # Normalize the tensor image with mean and standard deviation\n",
    "    transforms.Normalize((0.5,), (0.5,))\n",
    "])\n",
    "\n",
    "# Load the MNIST dataset for training with predefined transformations\n",
    "train_data = datasets.MNIST(root='./data', train=True, download=True, transform=transform)\n",
    "\n",
    "# Load the MNIST dataset for testing with predefined transformations\n",
    "test_data = datasets.MNIST(root='./data', train=False, download=True, transform=transform)\n",
    "\n",
    "# Set up a DataLoader for the training dataset with shuffling and batch sizing\n",
    "train_loader = DataLoader(train_data, batch_size=32, shuffle=True)\n",
    "\n",
    "# Set up a DataLoader for the testing dataset without shuffling and with batch sizing\n",
    "test_loader = DataLoader(test_data, batch_size=32, shuffle=False)\n"
   ]
  },
  {
   "cell_type": "markdown",
   "metadata": {},
   "source": [
    "#### Data Exploration \n",
    "\n",
    "Pick one example from each digit and visualize them. Count the number of samples per digit in the original training data."
   ]
  },
  {
   "cell_type": "code",
   "execution_count": 2,
   "metadata": {},
   "outputs": [
    {
     "data": {
      "image/png": "[encoded data removed]",
      "text/plain": [
       "<Figure size 1500x300 with 10 Axes>"
      ]
     },
     "metadata": {},
     "output_type": "display_data"
    },
    {
     "name": "stdout",
     "output_type": "stream",
     "text": [
      "Digit 0: 5923 samples\n",
      "Digit 1: 6742 samples\n",
      "Digit 2: 5958 samples\n",
      "Digit 3: 6131 samples\n",
      "Digit 4: 5842 samples\n",
      "Digit 5: 5421 samples\n",
      "Digit 6: 5918 samples\n",
      "Digit 7: 6265 samples\n",
      "Digit 8: 5851 samples\n",
      "Digit 9: 5949 samples\n"
     ]
    }
   ],
   "source": [
    "# Initialize dictionaries to store the first image of each digit and count the occurrences of each digit\n",
    "digits = {i: None for i in range(10)}\n",
    "counts = {i: 0 for i in range(10)}\n",
    "\n",
    "# Loop through the dataset to populate 'digits' with the first image of each digit and 'counts' with the total occurrences\n",
    "for image, label in train_data:\n",
    "    # Increment the count for this digit\n",
    "    counts[label] += 1\n",
    "    if digits[label] is None:\n",
    "        # Store the first image for this digit if not already stored\n",
    "        digits[label] = image\n",
    "\n",
    "# Set up a figure with 10 subplots to display one example per digit\n",
    "fig, axes = plt.subplots(1, 10, figsize=(15, 3))\n",
    "for digit, ax in zip(digits.values(), axes):\n",
    "    # Display the image, removing any singleton dimensions\n",
    "    ax.imshow(digit.squeeze(), cmap='gray')\n",
    "    # Hide the axes for a cleaner display\n",
    "    ax.axis('off')\n",
    "# Show the figure with the images\n",
    "plt.show()  \n",
    "\n",
    "# Iterate over the digit counts and print out the number of samples for each digit\n",
    "for digit, count in counts.items():\n",
    "    # Print the count of each digit in the dataset\n",
    "    print(f\"Digit {digit}: {count} samples\")"
   ]
  },
  {
   "cell_type": "markdown",
   "metadata": {},
   "source": [
    "#### Modeling \n",
    "Implement a Convolutional Neural Network model using Convolution layers to classify the digits in the MNIST dataset"
   ]
  },
  {
   "cell_type": "markdown",
   "metadata": {},
   "source": [
    "#### First Model"
   ]
  },
  {
   "cell_type": "code",
   "execution_count": 3,
   "metadata": {},
   "outputs": [],
   "source": [
    "train_size = int(0.8 * len(train_data))\n",
    "validation_size = len(train_data) - train_size\n",
    "train_dataset, validation_dataset = random_split(train_data, [train_size, validation_size])\n",
    "\n",
    "\n",
    "class TanhCNN(nn.Module):\n",
    "    def __init__(self):\n",
    "        super(TanhCNN, self).__init__()\n",
    "        # Convolutional layer that takes 1 input channel and produces 32 output channels\n",
    "        self.conv1 = nn.Conv2d(1, 32, kernel_size=3, padding=1)\n",
    "        # Fully connected layer that takes the flattened output from the conv layer and outputs 128 nodes\n",
    "        self.fc1 = nn.Linear(32 * 14 * 14, 128)\n",
    "        # Fully connected layer that outputs 10 nodes (one for each class of MNIST digits)\n",
    "        self.fc2 = nn.Linear(128, 10)\n",
    "        # Max pooling layer with a kernel size of 2x2\n",
    "        self.pool = nn.MaxPool2d(2, 2)\n",
    "        # Tanh activation function\n",
    "        self.tanh = nn.Tanh()\n",
    "\n",
    "    def forward(self, x):\n",
    "        # Apply the convolutional layer followed by Tanh activation and pooling\n",
    "        x = self.pool(self.tanh(self.conv1(x)))\n",
    "        # Flatten the output from the pooling layer to feed into the fully connected layers\n",
    "        x = x.view(-1, 32 * 14 * 14)  \n",
    "        # Apply the first fully connected layer with Tanh activation\n",
    "        x = self.tanh(self.fc1(x))\n",
    "        # Apply the second fully connected layer to produce the final output\n",
    "        x = self.fc2(x)\n",
    "        return x"
   ]
  },
  {
   "cell_type": "markdown",
   "metadata": {},
   "source": [
    "#### Second Model"
   ]
  },
  {
   "cell_type": "code",
   "execution_count": 4,
   "metadata": {},
   "outputs": [],
   "source": [
    "class ReluCNN(nn.Module):  # Inherits from nn.Module\n",
    "    def __init__(self):\n",
    "        super(ReluCNN, self).__init__()  # Initialize the superclass\n",
    "        # Convolutional layer that takes 1 input channel and produces 16 output channels\n",
    "        self.conv1 = nn.Conv2d(1, 16, kernel_size=3, padding=1)\n",
    "        # Second convolutional layer that takes 16 input channels and produces 32 output channels\n",
    "        self.conv2 = nn.Conv2d(16, 32, kernel_size=3, padding=1)\n",
    "        # Fully connected layer that takes the flattened output from conv layers and outputs 128 nodes\n",
    "        self.fc1 = nn.Linear(32 * 7 * 7, 128)\n",
    "        # Fully connected layer that outputs 10 nodes (one for each class of MNIST digits)\n",
    "        self.fc2 = nn.Linear(128, 10)\n",
    "        # Activation function ReLU\n",
    "        self.relu = nn.ReLU()\n",
    "        # Pooling layer to reduce spatial dimensions of the output from conv layers\n",
    "        self.pool = nn.MaxPool2d(2, 2)\n",
    "        # Dropout layer to prevent overfitting by randomly setting input elements to zero\n",
    "        self.dropout = nn.Dropout(0.5)\n",
    "\n",
    "    def forward(self, x):\n",
    "        # Apply the first convolutional layer followed by ReLU activation and pooling\n",
    "        x = self.pool(self.relu(self.conv1(x)))\n",
    "        # Apply the second convolutional layer followed by ReLU activation and pooling\n",
    "        x = self.pool(self.relu(self.conv2(x)))\n",
    "        # Flatten the output from the last pooling layer to feed into the fully connected layer\n",
    "        x = x.view(-1, 32 * 7 * 7)\n",
    "        # Apply the first fully connected layer with ReLU activation\n",
    "        x = self.relu(self.fc1(x))\n",
    "        # Apply dropout to the output of the first fully connected layer\n",
    "        x = self.dropout(x)\n",
    "        # Apply the second fully connected layer to produce final output\n",
    "        x = self.fc2(x)\n",
    "        return x"
   ]
  },
  {
   "cell_type": "code",
   "execution_count": 5,
   "metadata": {},
   "outputs": [
    {
     "name": "stdout",
     "output_type": "stream",
     "text": [
      "Epoch 1, Loss: 0.28094138448126615\n",
      "Epoch 2, Loss: 0.08702179072207461\n",
      "Epoch 3, Loss: 0.05444802258326672\n",
      "Epoch 4, Loss: 0.03767062279729483\n",
      "Epoch 5, Loss: 0.026249286182942644\n",
      "Epoch 6, Loss: 0.021592497054720296\n",
      "Epoch 7, Loss: 0.01571974488189638\n",
      "Epoch 8, Loss: 0.01220826218998991\n",
      "Epoch 9, Loss: 0.010556550108201918\n",
      "Epoch 10, Loss: 0.013459414627652828\n",
      "Validation Accuracy: 97.83333333333333%\n",
      "Test Accuracy: 97.76%\n",
      "Filters: \n"
     ]
    },
    {
     "data": {
      "image/png": "[encoded data removed]",
      "text/plain": [
       "<Figure size 6400x200 with 32 Axes>"
      ]
     },
     "metadata": {},
     "output_type": "display_data"
    },
    {
     "name": "stdout",
     "output_type": "stream",
     "text": [
      "Epoch 1, Loss: 0.303535509403795\n",
      "Epoch 2, Loss: 0.10962435268471017\n",
      "Epoch 3, Loss: 0.08294790950984073\n",
      "Epoch 4, Loss: 0.06806309967542377\n",
      "Epoch 5, Loss: 0.05920084185666444\n",
      "Epoch 6, Loss: 0.04941295935420203\n",
      "Epoch 7, Loss: 0.04417756902926097\n",
      "Epoch 8, Loss: 0.041349895134932015\n",
      "Epoch 9, Loss: 0.036567597344346725\n",
      "Epoch 10, Loss: 0.033570523014744294\n",
      "Validation Accuracy: 98.85833333333333%\n",
      "Test Accuracy: 99.1%\n"
     ]
    },
    {
     "data": {
      "image/png": "[encoded data removed]",
      "text/plain": [
       "<Figure size 3200x200 with 16 Axes>"
      ]
     },
     "metadata": {},
     "output_type": "display_data"
    }
   ],
   "source": [
    "\n",
    "def train_model(model, train_loader, validation_loader, epochs=10):\n",
    "    # Loss function suitable for classification with multiple classes\n",
    "    criterion = nn.CrossEntropyLoss()  \n",
    "    # Use Adam optimizer with learning rate of 0.001\n",
    "    optimizer = optim.Adam(model.parameters(), lr=0.001)  \n",
    "\n",
    "    # Training loop over the specified number of epochs\n",
    "    for epoch in range(epochs):\n",
    "        # Variable to accumulate loss over the epoch\n",
    "        running_loss = 0.0  \n",
    "        for images, labels in train_loader:\n",
    "            # Clear gradients for each batch\n",
    "            optimizer.zero_grad() \n",
    "            # Forward pass: compute predicted outputs\n",
    "            outputs = model(images)\n",
    "            # Compute loss between predicted and true labels\n",
    "            loss = criterion(outputs, labels)\n",
    "            # Backpropagate the error\n",
    "            loss.backward()\n",
    "            # Perform a single optimization step\n",
    "            optimizer.step()\n",
    "            # Sum up loss for reporting\n",
    "            running_loss += loss.item()\n",
    "            # Print average loss per epoch\n",
    "        print(f\"Epoch {epoch + 1}, Loss: {running_loss / len(train_loader)}\")\n",
    "    \n",
    "    # Set the model to evaluation mode\n",
    "    model.eval()\n",
    "    # Set total and correct to 0 \n",
    "    total = 0\n",
    "    correct = 0\n",
    "    # Disable gradient calculation to speed up the process\n",
    "    with torch.no_grad():\n",
    "        for images, labels in validation_loader:\n",
    "            # Compute model output\n",
    "            outputs = model(images) \n",
    "            # Get the predicted class from the maximum value\n",
    "            _, predicted = torch.max(outputs.data, 1)  \n",
    "            # Update total count of processed samples\n",
    "            total += labels.size(0)\n",
    "            # Update correct prediction count\n",
    "            correct += (predicted == labels).sum().item()\n",
    "    # Print the validation accuracy of the model\n",
    "    print(f'Validation Accuracy: {100 * correct / total}%')  \n",
    "    return model\n",
    "\n",
    "\n",
    "\n",
    "# Function to visualize convolutional filters\n",
    "def visualize_filters(model):\n",
    "    # Set the model to evaluation mode\n",
    "    model.eval()  \n",
    "    # No need to track gradients for visualization\n",
    "    with torch.no_grad():  \n",
    "        # Define number of filters in the first convolutional layer\n",
    "        num_filters = model.conv1.out_channels\n",
    "        # Create a grid of subplots\n",
    "        fig, axarr = plt.subplots(1, num_filters, figsize=(num_filters * 2, 2))\n",
    "        # Loop over all filters in the first convolutional layer\n",
    "        for idx in range(num_filters):\n",
    "            # Display each filter using grayscale color map\n",
    "            axarr[idx].imshow(model.conv1.weight.data[idx].squeeze(), cmap='gray')\n",
    "            # Enable axis on each subplot to show axis ticks and labels\n",
    "            axarr[idx].axis('on')\n",
    "\n",
    "            # Hides x-axis ticks\n",
    "            axarr[idx].set_xticks([])\n",
    "            # Hides y-axis ticks  \n",
    "            axarr[idx].set_yticks([])\n",
    "            # Label each filter\n",
    "            axarr[idx].set_xlabel(f'Filter {idx+1}')\n",
    "\n",
    "        # Adjust spacing between each subplot to prevent overlap\n",
    "        plt.subplots_adjust(left=0.1, bottom=0.1, right=0.9, top=0.9, wspace=0.5, hspace=0.2)\n",
    "\n",
    "        # Display the plot\n",
    "        plt.show()\n",
    "\n",
    "\n",
    "\n",
    "def test_model(model, test_loader):\n",
    "    # Set the model to evaluation mode\n",
    "    model.eval() \n",
    "     # Set total samples and correct samples to 0 \n",
    "    total = 0  \n",
    "    correct = 0  \n",
    "    # Disable gradient calculation to speed up the process\n",
    "    with torch.no_grad():\n",
    "        # Iterate over batches of test data\n",
    "        for images, labels in test_loader:\n",
    "            # Generate model predictions for the current batch\n",
    "            outputs = model(images)\n",
    "            # Find the predicted class labels (indices of maximum scores)\n",
    "            _, predicted = torch.max(outputs.data, 1)\n",
    "            # Increment the total count by the number of labels in the current batch\n",
    "            total += labels.size(0)\n",
    "            # Increment the correct count by the number of correct predictions in the batch\n",
    "            correct += (predicted == labels).sum().item()\n",
    "    # Calculate the accuracy of the model on the test set\n",
    "    accuracy = 100 * correct / total  \n",
    "    # Print the test accuracy of the model\n",
    "    print(f'Test Accuracy: {accuracy}%') \n",
    "    return accuracy\n",
    "\n",
    "\n",
    "\n",
    "\n",
    "# Build Tanh model\n",
    "model = TanhCNN()\n",
    "# Train Tanh model\n",
    "trained_model = train_model(model, DataLoader(train_dataset, batch_size=32, shuffle=True), DataLoader(validation_dataset, batch_size=32, shuffle=False))\n",
    "# Test Tanh model\n",
    "test_model(trained_model, test_loader)\n",
    "# Visualize Layers for Tanh model\n",
    "print(\"Filters: \")\n",
    "visualize_filters(trained_model)\n",
    "\n",
    "\n",
    "\n",
    "# Build Relu model\n",
    "model_2 = ReluCNN()\n",
    "# Train Relu model\n",
    "trained_model_2 = train_model(model_2, DataLoader(train_dataset, batch_size=32, shuffle=True), DataLoader(validation_dataset, batch_size=32, shuffle=False))\n",
    "# Test Relu model\n",
    "test_model(trained_model_2, test_loader)\n",
    "# Visualize Layers for Relu model\n",
    "visualize_filters(trained_model_2)"
   ]
  },
  {
   "cell_type": "markdown",
   "metadata": {},
   "source": [
    "For Question 2 I started with a simple model with Tanh function as my activation function, I didn't set up dropout or a second convolution layer as I just wanted to try building the CNN and get it working. I just kept things simple and focused on my training function which was I struggled with a bit, I was following the tutorials on the pytorch website but I missed the step where the optimizer gets it's gradients cleared. This led to really high increasing loss and it took me awhile going through the pytorch docs to realize I missed a step.\n",
    "\n",
    "When I made the second model I tried Relu for my activation function I also added a second convolution layer and dropout this led to improvment over my first model on the test dataset by .2417%."
   ]
  }
 ],
 "metadata": {
  "kernelspec": {
   "display_name": "base",
   "language": "python",
   "name": "python3"
  },
  "language_info": {
   "codemirror_mode": {
    "name": "ipython",
    "version": 3
   },
   "file_extension": ".py",
   "mimetype": "text/x-python",
   "name": "python",
   "nbconvert_exporter": "python",
   "pygments_lexer": "ipython3",
   "version": "3.10.10"
  }
 },
 "nbformat": 4,
 "nbformat_minor": 2
}
